{
 "cells": [
  {
   "cell_type": "code",
   "execution_count": 4,
   "metadata": {},
   "outputs": [
    {
     "name": "stderr",
     "output_type": "stream",
     "text": [
      "WARNING:absl:Compiled the loaded model, but the compiled metrics have yet to be built. `model.compile_metrics` will be empty until you train or evaluate the model.\n",
      "WARNING:absl:Compiled the loaded model, but the compiled metrics have yet to be built. `model.compile_metrics` will be empty until you train or evaluate the model.\n"
     ]
    },
    {
     "name": "stdout",
     "output_type": "stream",
     "text": [
      "\u001b[1m1/1\u001b[0m \u001b[32m━━━━━━━━━━━━━━━━━━━━\u001b[0m\u001b[37m\u001b[0m \u001b[1m0s\u001b[0m 81ms/step\n"
     ]
    },
    {
     "name": "stderr",
     "output_type": "stream",
     "text": [
      "Exception in Tkinter callback\n",
      "Traceback (most recent call last):\n",
      "  File \"c:\\Program Files\\Python311\\Lib\\tkinter\\__init__.py\", line 1948, in __call__\n",
      "    return self.func(*args)\n",
      "           ^^^^^^^^^^^^^^^^\n",
      "  File \"C:\\Users\\lsrin\\AppData\\Local\\Temp\\ipykernel_13432\\3848620114.py\", line 21, in load_image\n",
      "    predict(file_path)\n",
      "  File \"C:\\Users\\lsrin\\AppData\\Local\\Temp\\ipykernel_13432\\3848620114.py\", line 32, in predict\n",
      "    color_result = color_dict[color_class]\n",
      "                   ~~~~~~~~~~^^^^^^^^^^^^^\n",
      "KeyError: 6\n"
     ]
    }
   ],
   "source": [
    "import tkinter as tk\n",
    "from tkinter import filedialog\n",
    "from tkinter import messagebox\n",
    "from PIL import Image, ImageTk\n",
    "import numpy as np\n",
    "import tensorflow as tf\n",
    "\n",
    "# Load the models\n",
    "car_color_model = tf.keras.models.load_model('car_color_model.h5')\n",
    "gender_classification_model = tf.keras.models.load_model('gender_classification_model.h5')\n",
    "\n",
    "def load_image():\n",
    "    file_path = filedialog.askopenfilename()\n",
    "    if not file_path:\n",
    "        return\n",
    "    img = Image.open(file_path)\n",
    "    img = img.resize((64, 64))  # Resize to the input size of the models\n",
    "    img_tk = ImageTk.PhotoImage(img)\n",
    "    panel.config(image=img_tk)\n",
    "    panel.image = img_tk\n",
    "    predict(file_path)\n",
    "\n",
    "def predict(image_path):\n",
    "    img = Image.open(image_path)\n",
    "    img_array = np.array(img.resize((64, 64))) / 255.0\n",
    "    img_array = np.expand_dims(img_array, axis=0)  # Add batch dimension\n",
    "\n",
    "    # Predict car color\n",
    "    color_pred = car_color_model.predict(img_array)\n",
    "    color_class = np.argmax(color_pred, axis=1)[0]\n",
    "    color_dict = {0: 'Red (but marked as Blue)', 1: 'Blue (but marked as Red)', 2: 'Other'}\n",
    "    color_result = color_dict[color_class]\n",
    "\n",
    "    # Simulated counts for demo purposes\n",
    "    car_count = 5  # Replace with actual car count detection logic\n",
    "    people_count = 3  # Replace with actual people detection logic\n",
    "    other_vehicles_count = 2  # Replace with actual vehicle detection logic\n",
    "\n",
    "    # Predict gender if people are detected\n",
    "    if people_count > 0:\n",
    "        # Replace with actual people detection and cropping logic\n",
    "        # For demonstration, we assume every person is represented by the same image\n",
    "        person_img_array = np.tile(img_array, (people_count, 1, 1, 1))  # Assuming all detected people images are the same\n",
    "        gender_preds = gender_classification_model.predict(person_img_array)\n",
    "        gender_classes = np.argmax(gender_preds, axis=1)\n",
    "        male_count = np.sum(gender_classes == 1)\n",
    "        female_count = np.sum(gender_classes == 0)\n",
    "        gender_result = f\"{male_count} Males, {female_count} Females\"\n",
    "    else:\n",
    "        gender_result = 'No people detected'\n",
    "\n",
    "    # Display results\n",
    "    result_text = f\"Car Color: {color_result}\\nCar Count: {car_count}\\nPeople Count: {people_count} ({gender_result})\\nOther Vehicles Count: {other_vehicles_count}\"\n",
    "    messagebox.showinfo(\"Prediction Result\", result_text)\n",
    "\n",
    "# Create the main window\n",
    "root = tk.Tk()\n",
    "root.title(\"Traffic Signal Analyzer\")\n",
    "\n",
    "# Create a panel for the image\n",
    "panel = tk.Label(root)\n",
    "panel.pack(side=\"top\", fill=\"both\", expand=\"yes\")\n",
    "\n",
    "# Create a button to load the image\n",
    "btn = tk.Button(root, text=\"Load Image\", command=load_image)\n",
    "btn.pack(side=\"bottom\", fill=\"both\", expand=\"yes\", padx=10, pady=10)\n",
    "\n",
    "# Start the GUI loop\n",
    "root.mainloop()\n"
   ]
  }
 ],
 "metadata": {
  "kernelspec": {
   "display_name": "Python 3",
   "language": "python",
   "name": "python3"
  },
  "language_info": {
   "codemirror_mode": {
    "name": "ipython",
    "version": 3
   },
   "file_extension": ".py",
   "mimetype": "text/x-python",
   "name": "python",
   "nbconvert_exporter": "python",
   "pygments_lexer": "ipython3",
   "version": "3.11.4"
  }
 },
 "nbformat": 4,
 "nbformat_minor": 2
}
